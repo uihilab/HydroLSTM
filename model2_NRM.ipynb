{
 "cells": [
  {
   "cell_type": "code",
   "execution_count": 1,
   "metadata": {
    "executionInfo": {
     "elapsed": 1156,
     "status": "ok",
     "timestamp": 1607937726405,
     "user": {
      "displayName": "Zr Xiang",
      "photoUrl": "",
      "userId": "10347344196072452629"
     },
     "user_tz": 360
    },
    "id": "gPPqYh3U1VL4"
   },
   "outputs": [],
   "source": [
    "import numpy as np\n",
    "import pandas as pd\n",
    "\n",
    "from tensorflow.keras.models import *\n",
    "from tensorflow.keras.layers import *\n",
    "from tensorflow.keras.callbacks import ModelCheckpoint, ReduceLROnPlateau, EarlyStopping\n",
    "from tensorflow.keras.optimizers import *\n",
    "import tensorflow.keras.backend as K\n",
    "\n",
    "from sklearn.preprocessing import MinMaxScaler\n",
    "from sklearn.model_selection import train_test_split"
   ]
  },
  {
   "cell_type": "code",
   "execution_count": 2,
   "metadata": {
    "executionInfo": {
     "elapsed": 1132,
     "status": "ok",
     "timestamp": 1607937726406,
     "user": {
      "displayName": "Zr Xiang",
      "photoUrl": "",
      "userId": "10347344196072452629"
     },
     "user_tz": 360
    },
    "id": "GGyMOPlH1ihI"
   },
   "outputs": [],
   "source": [
    "def series_to_supervised(data, n_in=1, n_out=1, dropnan=False):\n",
    "  n_vars = 1 if type(data) is list else data.shape[1]\n",
    "  df = pd.DataFrame(data)\n",
    "  cols, names = list(), list()\n",
    "  # input sequence (t-n, ... t-1)\n",
    "  for i in range(n_in, 0, -1):\n",
    "    cols.append(df.shift(i))\n",
    "    names += [('var%d(t-%d)' % (j+1, i)) for j in range(n_vars)]\n",
    "  # forecast sequence (t, t+1, ... t+n)\n",
    "  for i in range(0, n_out):\n",
    "    cols.append(df.shift(-i))\n",
    "    if i == 0:\n",
    "      names += [('var%d(t)' % (j+1)) for j in range(n_vars)]\n",
    "    else:\n",
    "      names += [('var%d(t+%d)' % (j+1, i)) for j in range(n_vars)]\n",
    "  # put it all together\n",
    "  agg = pd.concat(cols, axis=1)\n",
    "  agg.columns = names\n",
    "  # drop rows with NaN values\n",
    "  if dropnan:\n",
    "    agg.dropna(inplace=True)\n",
    "  return pd.DataFrame(agg.astype('float32'))"
   ]
  },
  {
   "cell_type": "code",
   "execution_count": 3,
   "metadata": {
    "executionInfo": {
     "elapsed": 1106,
     "status": "ok",
     "timestamp": 1607937726408,
     "user": {
      "displayName": "Zr Xiang",
      "photoUrl": "",
      "userId": "10347344196072452629"
     },
     "user_tz": 360
    },
    "id": "c46oMGAs_Ile"
   },
   "outputs": [],
   "source": [
    "def train_valid_test_split(data, hours_of_history, hours_to_predict, parameters_included):\n",
    "  y_list = list(range(parameters_included*hours_of_history+parameters_included-1, parameters_included*(hours_of_history+hours_to_predict)+parameters_included-1, parameters_included))\n",
    "  all_list = list(range(0, parameters_included*(hours_of_history+hours_to_predict)))\n",
    "  x_list = [item for item in all_list if item not in y_list]\n",
    "\n",
    "  data_train = data.iloc[:52608,:] # the first 6 years for training/validation\n",
    "  data_test = data.iloc[52608:,:] # the last 1 years for test evaluation\n",
    "  data_train.dropna(inplace=True)\n",
    "  data_test.dropna(inplace=True)\n",
    "\n",
    "  x_train_valid = data_train.iloc[:,x_list].values\n",
    "  x_test = data_test.iloc[:,x_list].values\n",
    "  y_train_valid = data_train.iloc[:,y_list].values\n",
    "  y_test = data_test.iloc[:,y_list].values\n",
    "\n",
    "  x_valid, x_train, y_valid, y_train = train_test_split(x_train_valid, y_train_valid, test_size=0.4, shuffle= False) # the first 60% data in the first 6 years used for training and the rest 40% used for validation.\n",
    "\n",
    "  return x_train, x_valid, x_test, y_train, y_valid, y_test"
   ]
  },
  {
   "cell_type": "code",
   "execution_count": 4,
   "metadata": {
    "executionInfo": {
     "elapsed": 1087,
     "status": "ok",
     "timestamp": 1607937726411,
     "user": {
      "displayName": "Zr Xiang",
      "photoUrl": "",
      "userId": "10347344196072452629"
     },
     "user_tz": 360
    },
    "id": "kFW20INaHjoO"
   },
   "outputs": [],
   "source": [
    "def prepare_data(station_id, hours_of_history, hours_to_predict, parameters_included):\n",
    "  # load the data\n",
    "  data = pd.read_csv('./data/'+str(station_id)+'_data.csv').iloc[:,1:]\n",
    "\n",
    "  # simple min-max scaling. Other pretreatments such as normalization also work.\n",
    "  scaler = MinMaxScaler()\n",
    "  scaler.fit(data.iloc[:52608,:]) # min-max scaling without the test dataset.\n",
    "  q_max = np.max(data.iloc[:52608,2]) # manually check the maximum and minimum discharge\n",
    "  q_min = np.min(data.iloc[:52608,2])\n",
    "  data_scaled = scaler.transform(data)\n",
    "\n",
    "  # data split\n",
    "  data_sequence = series_to_supervised(data_scaled, hours_of_history, hours_to_predict)\n",
    "  x_train, x_valid, x_test, y_train, y_valid, y_test = train_valid_test_split(data_sequence, hours_of_history, hours_to_predict, parameters_included)\n",
    "\n",
    "  # Split data into 2 parts for encoder (history) and decoder(future).\n",
    "  x_train_encoder = x_train[:,:hours_of_history*parameters_included].reshape(-1, hours_of_history, parameters_included)\n",
    "  x_train_decoder = x_train[:,hours_of_history*parameters_included:].reshape(-1, hours_to_predict, parameters_included-1)\n",
    "  x_valid_encoder = x_valid[:,:hours_of_history*parameters_included].reshape(-1, hours_of_history, parameters_included)\n",
    "  x_valid_decoder = x_valid[:,hours_of_history*parameters_included:].reshape(-1, hours_to_predict, parameters_included-1)\n",
    "  x_test_encoder = x_test[:,:hours_of_history*parameters_included].reshape(-1, hours_of_history, parameters_included)\n",
    "  x_test_decoder = x_test[:,hours_of_history*parameters_included:].reshape(-1, hours_to_predict, parameters_included-1)\n",
    "\n",
    "  return x_train_encoder, x_train_decoder, x_valid_encoder, x_valid_decoder, x_test_encoder, x_test_decoder, y_train, y_valid, y_test, q_max, q_min"
   ]
  },
  {
   "cell_type": "code",
   "execution_count": 5,
   "metadata": {
    "executionInfo": {
     "elapsed": 1071,
     "status": "ok",
     "timestamp": 1607937726412,
     "user": {
      "displayName": "Zr Xiang",
      "photoUrl": "",
      "userId": "10347344196072452629"
     },
     "user_tz": 360
    },
    "id": "b_MCNzE8a44-"
   },
   "outputs": [],
   "source": [
    "# define custome loss function (you can use the simple 'mse' as well)\n",
    "def nseloss(y_true, y_pred):\n",
    "  return K.sum((y_pred-y_true)**2)/K.sum((y_true-K.mean(y_true))**2)"
   ]
  },
  {
   "cell_type": "code",
   "execution_count": 6,
   "metadata": {
    "executionInfo": {
     "elapsed": 1056,
     "status": "ok",
     "timestamp": 1607937726412,
     "user": {
      "displayName": "Zr Xiang",
      "photoUrl": "",
      "userId": "10347344196072452629"
     },
     "user_tz": 360
    },
    "id": "Vy6tFQRBRuUD"
   },
   "outputs": [],
   "source": [
    "def NRM(hours_of_history, hours_to_predict, parameters_included):\n",
    "  \n",
    "  # design network\n",
    "  dim_dense = [128, 64, 64, 32, 32]\n",
    "  drop = 0.2\n",
    "\n",
    "  encoder_input = Input(shape=(hours_of_history,parameters_included))\n",
    "  encoder_GRU1 = GRU(32, return_state=True, return_sequences=True)\n",
    "  encoder_output1, encoder_hc1 = encoder_GRU1(encoder_input)\n",
    "  encoder_GRU2 = GRU(32, return_state=True, return_sequences=True)\n",
    "  encoder_output2, encoder_hc2 = encoder_GRU2(encoder_output1)\n",
    "  encoder_GRU3 = GRU(32, return_state=True, return_sequences=True)\n",
    "  encoder_output3, encoder_hc3 = encoder_GRU3(encoder_output2)\n",
    "  encoder_GRU4 = GRU(32, return_state=True, return_sequences=True)\n",
    "  encoder_output4, encoder_hc4 = encoder_GRU4(encoder_output3)\n",
    "  encoder_GRU5 = GRU(32, return_state=True)\n",
    "  encoder_output5, encoder_hc5 = encoder_GRU5(encoder_output4)\n",
    "\n",
    "  decoder_input = Input(shape=(hours_to_predict,parameters_included-1))\n",
    "  decoder_GRU1 = GRU(32, return_sequences=True)\n",
    "  decoder_GRU2 = GRU(32, return_sequences=True)\n",
    "  decoder_GRU3 = GRU(32, return_sequences=True)\n",
    "  decoder_GRU4 = GRU(32, return_sequences=True)\n",
    "  decoder_GRU5 = GRU(32, return_sequences=True)\n",
    "  x = decoder_GRU1(decoder_input, initial_state=encoder_hc1)\n",
    "  x = decoder_GRU2(x, initial_state=encoder_hc2)\n",
    "  x = decoder_GRU3(x, initial_state=encoder_hc3)\n",
    "  x = decoder_GRU4(x, initial_state=encoder_hc4)\n",
    "  x = decoder_GRU5(x, initial_state=encoder_hc5)\n",
    "\n",
    "  for dim in dim_dense:\n",
    "    x = TimeDistributed(Dense(dim, activation='tanh'))(x) # or relu\n",
    "    x = TimeDistributed(Dropout(drop))(x)\n",
    "  main_out = TimeDistributed(Dense(1, activation='linear'))(x) # relu as the last activation works (only) for the min-max scalling so there is no negative output\n",
    "  main_out = Flatten()(main_out)\n",
    "  model = Model(inputs=[encoder_input, decoder_input], outputs=main_out)\n",
    "  return model"
   ]
  },
  {
   "cell_type": "code",
   "execution_count": 7,
   "metadata": {
    "executionInfo": {
     "elapsed": 1039,
     "status": "ok",
     "timestamp": 1607937726413,
     "user": {
      "displayName": "Zr Xiang",
      "photoUrl": "",
      "userId": "10347344196072452629"
     },
     "user_tz": 360
    },
    "id": "PvTU6Ob4cc8A"
   },
   "outputs": [],
   "source": [
    "# identify KGE, NSE for evaluation\n",
    "def nse(y_true, y_pred):\n",
    "  return 1-np.sum((y_pred-y_true)**2)/np.sum((y_true-np.mean(y_true))**2)\n",
    "  \n",
    "def kge(y_true, y_pred):\n",
    "  kge_r = np.corrcoef(y_true,y_pred)[1][0]\n",
    "  kge_a = np.std(y_pred)/np.std(y_true)\n",
    "  kge_b = np.mean(y_pred)/np.mean(y_true)\n",
    "  return 1-np.sqrt((kge_r-1)**2+(kge_a-1)**2+(kge_b-1)**2)\n"
   ]
  },
  {
   "cell_type": "code",
   "execution_count": null,
   "metadata": {
    "executionInfo": {
     "elapsed": 1021,
     "status": "ok",
     "timestamp": 1607937726414,
     "user": {
      "displayName": "Zr Xiang",
      "photoUrl": "",
      "userId": "10347344196072452629"
     },
     "user_tz": 360
    },
    "id": "MptO3dI7Hucj"
   },
   "outputs": [],
   "source": [
    "def main():\n",
    "  # parameters\n",
    "  station_id = 521\n",
    "  hours_to_predict = 120\n",
    "  hours_of_history = 72\n",
    "  parameters_included = 3\n",
    "\n",
    "  batch_size = 64\n",
    "  lr = 0.0001\n",
    "  epochs = 300\n",
    "  test_name = './'+str(station_id)+'_model2_'\n",
    "\n",
    "  # load data\n",
    "  x_train_encoder, x_train_decoder, x_valid_encoder, x_valid_decoder, x_test_encoder, x_test_decoder, y_train, y_valid, y_test, q_max, q_min = prepare_data(station_id, hours_of_history, hours_to_predict, parameters_included)\n",
    "  model2 = NRM(hours_of_history, hours_to_predict, parameters_included)\n",
    "\n",
    "  # compile settings\n",
    "  reduce_lr = ReduceLROnPlateau(monitor='val_loss', factor=0.2, patience=10, cooldown=200, min_lr=1e-8)\n",
    "  earlystoping = EarlyStopping(monitor='val_loss', min_delta=0, patience=20, verbose=1, mode='auto')\n",
    "  checkpoint = ModelCheckpoint(test_name+'model.h5', monitor='val_loss', verbose=1, save_best_only=True, mode='min')\n",
    "  optimizer = RMSprop(learning_rate=lr)  # optimizer = RMSprop(lr=lr)\n",
    "  model2.compile(optimizer=optimizer, loss=nseloss) # in paper, we used the customized \"nseloss\" as model 1 did. however, here we show mse as an example.\n",
    "\n",
    "  # train model\n",
    "  history = model2.fit([x_train_encoder, x_train_decoder], y_train, epochs=epochs, batch_size=batch_size,\n",
    "              validation_data=([x_valid_encoder, x_valid_decoder], y_valid), callbacks=[reduce_lr, earlystoping, checkpoint], verbose=1)\n",
    "\n",
    "  # save training loss\n",
    "  loss_train = history.history['loss']\n",
    "  loss_valid = history.history['val_loss']\n",
    "  loss_train = pd.DataFrame({'TrainLoss':loss_train})\n",
    "  loss_valid = pd.DataFrame({'TestLoss':loss_valid})\n",
    "  LossEpoches = pd.concat([loss_train, loss_valid], axis=1)\n",
    "  LossEpoches.to_csv(test_name+'loss.csv', index = True)\n",
    "\n",
    "  # Final Test Review\n",
    "  model2.load_weights(test_name+'model.h5')\n",
    "\n",
    "  y_model_scaled = model2.predict([x_test_encoder,x_test_decoder])\n",
    "  y_model = y_model_scaled*(q_max-q_min)+q_min\n",
    "  y_test = y_test*(q_max-q_min)+q_min\n",
    "\n",
    "  # hourly evaluation\n",
    "  NSEs=[]\n",
    "  KGEs=[]\n",
    "  for x in range(0, 120):\n",
    "    y_pred = y_model[:,x]\n",
    "    y_True = y_test[:,x]\n",
    "    NSEs.append(nse(y_True,y_pred))\n",
    "    KGEs.append(kge(y_True,y_pred))\n",
    "    \n",
    "  NSEs=pd.DataFrame(NSEs)\n",
    "  NSEs.columns = ['NSE_Test']\n",
    "  KGEs=pd.DataFrame(KGEs)\n",
    "  KGEs.columns = ['KGE_Test']\n",
    "    \n",
    "  eva = pd.concat([NSEs, KGEs], axis=1)\n",
    "  eva.to_csv(test_name+'eva.csv', index = True)\n"
   ]
  },
  {
   "cell_type": "code",
   "execution_count": 11,
   "metadata": {
    "colab": {
     "base_uri": "https://localhost:8080/"
    },
    "executionInfo": {
     "elapsed": 1295108,
     "status": "ok",
     "timestamp": 1607939020541,
     "user": {
      "displayName": "Zr Xiang",
      "photoUrl": "",
      "userId": "10347344196072452629"
     },
     "user_tz": 360
    },
    "id": "o03f8xK7ao9g",
    "outputId": "62e69b2c-28f6-4a98-cbf6-aeb1d065a61a"
   },
   "outputs": [
    {
     "name": "stderr",
     "output_type": "stream",
     "text": [
      "C:\\Users\\hdagne1\\AppData\\Local\\Temp\\ipykernel_12216\\3261867468.py:8: SettingWithCopyWarning: \n",
      "A value is trying to be set on a copy of a slice from a DataFrame\n",
      "\n",
      "See the caveats in the documentation: https://pandas.pydata.org/pandas-docs/stable/user_guide/indexing.html#returning-a-view-versus-a-copy\n",
      "  data_train.dropna(inplace=True)\n",
      "C:\\Users\\hdagne1\\AppData\\Local\\Temp\\ipykernel_12216\\3261867468.py:9: SettingWithCopyWarning: \n",
      "A value is trying to be set on a copy of a slice from a DataFrame\n",
      "\n",
      "See the caveats in the documentation: https://pandas.pydata.org/pandas-docs/stable/user_guide/indexing.html#returning-a-view-versus-a-copy\n",
      "  data_test.dropna(inplace=True)\n"
     ]
    },
    {
     "name": "stdout",
     "output_type": "stream",
     "text": [
      "Epoch 1/300\n",
      "\u001b[1m274/274\u001b[0m \u001b[32m━━━━━━━━━━━━━━━━━━━━\u001b[0m\u001b[37m\u001b[0m \u001b[1m0s\u001b[0m 359ms/step - loss: 1.2263\n",
      "Epoch 1: val_loss improved from inf to 4077.56909, saving model to ./521_model2_model.h5\n"
     ]
    },
    {
     "name": "stderr",
     "output_type": "stream",
     "text": [
      "WARNING:absl:You are saving your model as an HDF5 file via `model.save()` or `keras.saving.save_model(model)`. This file format is considered legacy. We recommend using instead the native Keras format, e.g. `model.save('my_model.keras')` or `keras.saving.save_model(model, 'my_model.keras')`. \n"
     ]
    },
    {
     "name": "stdout",
     "output_type": "stream",
     "text": [
      "\u001b[1m274/274\u001b[0m \u001b[32m━━━━━━━━━━━━━━━━━━━━\u001b[0m\u001b[37m\u001b[0m \u001b[1m236s\u001b[0m 507ms/step - loss: 1.2257 - val_loss: 4077.5691 - learning_rate: 1.0000e-04\n",
      "Epoch 2/300\n",
      "\u001b[1m274/274\u001b[0m \u001b[32m━━━━━━━━━━━━━━━━━━━━\u001b[0m\u001b[37m\u001b[0m \u001b[1m0s\u001b[0m 342ms/step - loss: 0.9081\n",
      "Epoch 2: val_loss did not improve from 4077.56909\n",
      "\u001b[1m274/274\u001b[0m \u001b[32m━━━━━━━━━━━━━━━━━━━━\u001b[0m\u001b[37m\u001b[0m \u001b[1m118s\u001b[0m 432ms/step - loss: 0.9081 - val_loss: 7400.2109 - learning_rate: 1.0000e-04\n",
      "Epoch 3/300\n",
      "\u001b[1m274/274\u001b[0m \u001b[32m━━━━━━━━━━━━━━━━━━━━\u001b[0m\u001b[37m\u001b[0m \u001b[1m0s\u001b[0m 346ms/step - loss: 0.8391\n",
      "Epoch 3: val_loss did not improve from 4077.56909\n",
      "\u001b[1m274/274\u001b[0m \u001b[32m━━━━━━━━━━━━━━━━━━━━\u001b[0m\u001b[37m\u001b[0m \u001b[1m119s\u001b[0m 436ms/step - loss: 0.8391 - val_loss: 4257.4600 - learning_rate: 1.0000e-04\n",
      "Epoch 4/300\n",
      "\u001b[1m274/274\u001b[0m \u001b[32m━━━━━━━━━━━━━━━━━━━━\u001b[0m\u001b[37m\u001b[0m \u001b[1m0s\u001b[0m 338ms/step - loss: 0.7852\n",
      "Epoch 4: val_loss improved from 4077.56909 to 2037.72449, saving model to ./521_model2_model.h5\n"
     ]
    },
    {
     "name": "stderr",
     "output_type": "stream",
     "text": [
      "WARNING:absl:You are saving your model as an HDF5 file via `model.save()` or `keras.saving.save_model(model)`. This file format is considered legacy. We recommend using instead the native Keras format, e.g. `model.save('my_model.keras')` or `keras.saving.save_model(model, 'my_model.keras')`. \n"
     ]
    },
    {
     "name": "stdout",
     "output_type": "stream",
     "text": [
      "\u001b[1m274/274\u001b[0m \u001b[32m━━━━━━━━━━━━━━━━━━━━\u001b[0m\u001b[37m\u001b[0m \u001b[1m118s\u001b[0m 429ms/step - loss: 0.7853 - val_loss: 2037.7245 - learning_rate: 1.0000e-04\n",
      "Epoch 5/300\n",
      "\u001b[1m274/274\u001b[0m \u001b[32m━━━━━━━━━━━━━━━━━━━━\u001b[0m\u001b[37m\u001b[0m \u001b[1m0s\u001b[0m 346ms/step - loss: 0.7856\n",
      "Epoch 5: val_loss did not improve from 2037.72449\n",
      "\u001b[1m274/274\u001b[0m \u001b[32m━━━━━━━━━━━━━━━━━━━━\u001b[0m\u001b[37m\u001b[0m \u001b[1m120s\u001b[0m 436ms/step - loss: 0.7855 - val_loss: 20874.9980 - learning_rate: 1.0000e-04\n",
      "Epoch 6/300\n",
      "\u001b[1m274/274\u001b[0m \u001b[32m━━━━━━━━━━━━━━━━━━━━\u001b[0m\u001b[37m\u001b[0m \u001b[1m0s\u001b[0m 351ms/step - loss: 0.7275\n",
      "Epoch 6: val_loss did not improve from 2037.72449\n",
      "\u001b[1m274/274\u001b[0m \u001b[32m━━━━━━━━━━━━━━━━━━━━\u001b[0m\u001b[37m\u001b[0m \u001b[1m122s\u001b[0m 446ms/step - loss: 0.7275 - val_loss: 6844.6899 - learning_rate: 1.0000e-04\n",
      "Epoch 7/300\n",
      "\u001b[1m274/274\u001b[0m \u001b[32m━━━━━━━━━━━━━━━━━━━━\u001b[0m\u001b[37m\u001b[0m \u001b[1m0s\u001b[0m 347ms/step - loss: 0.7197\n",
      "Epoch 7: val_loss did not improve from 2037.72449\n",
      "\u001b[1m274/274\u001b[0m \u001b[32m━━━━━━━━━━━━━━━━━━━━\u001b[0m\u001b[37m\u001b[0m \u001b[1m122s\u001b[0m 447ms/step - loss: 0.7197 - val_loss: 4536.1362 - learning_rate: 1.0000e-04\n",
      "Epoch 8/300\n",
      "\u001b[1m274/274\u001b[0m \u001b[32m━━━━━━━━━━━━━━━━━━━━\u001b[0m\u001b[37m\u001b[0m \u001b[1m0s\u001b[0m 348ms/step - loss: 0.6874\n",
      "Epoch 8: val_loss did not improve from 2037.72449\n",
      "\u001b[1m274/274\u001b[0m \u001b[32m━━━━━━━━━━━━━━━━━━━━\u001b[0m\u001b[37m\u001b[0m \u001b[1m121s\u001b[0m 443ms/step - loss: 0.6874 - val_loss: 20515.2461 - learning_rate: 1.0000e-04\n",
      "Epoch 9/300\n",
      "\u001b[1m274/274\u001b[0m \u001b[32m━━━━━━━━━━━━━━━━━━━━\u001b[0m\u001b[37m\u001b[0m \u001b[1m0s\u001b[0m 357ms/step - loss: 0.7096\n",
      "Epoch 9: val_loss did not improve from 2037.72449\n",
      "\u001b[1m274/274\u001b[0m \u001b[32m━━━━━━━━━━━━━━━━━━━━\u001b[0m\u001b[37m\u001b[0m \u001b[1m124s\u001b[0m 453ms/step - loss: 0.7095 - val_loss: 9162.2031 - learning_rate: 1.0000e-04\n",
      "Epoch 10/300\n",
      "\u001b[1m274/274\u001b[0m \u001b[32m━━━━━━━━━━━━━━━━━━━━\u001b[0m\u001b[37m\u001b[0m \u001b[1m0s\u001b[0m 353ms/step - loss: 0.6550\n",
      "Epoch 10: val_loss did not improve from 2037.72449\n",
      "\u001b[1m274/274\u001b[0m \u001b[32m━━━━━━━━━━━━━━━━━━━━\u001b[0m\u001b[37m\u001b[0m \u001b[1m120s\u001b[0m 439ms/step - loss: 0.6550 - val_loss: 7151.6475 - learning_rate: 1.0000e-04\n",
      "Epoch 11/300\n",
      "\u001b[1m274/274\u001b[0m \u001b[32m━━━━━━━━━━━━━━━━━━━━\u001b[0m\u001b[37m\u001b[0m \u001b[1m0s\u001b[0m 367ms/step - loss: 0.6020\n",
      "Epoch 11: val_loss did not improve from 2037.72449\n",
      "\u001b[1m274/274\u001b[0m \u001b[32m━━━━━━━━━━━━━━━━━━━━\u001b[0m\u001b[37m\u001b[0m \u001b[1m124s\u001b[0m 451ms/step - loss: 0.6020 - val_loss: 12223.5771 - learning_rate: 1.0000e-04\n",
      "Epoch 12/300\n",
      "\u001b[1m274/274\u001b[0m \u001b[32m━━━━━━━━━━━━━━━━━━━━\u001b[0m\u001b[37m\u001b[0m \u001b[1m0s\u001b[0m 371ms/step - loss: 0.5577\n",
      "Epoch 12: val_loss did not improve from 2037.72449\n",
      "\u001b[1m274/274\u001b[0m \u001b[32m━━━━━━━━━━━━━━━━━━━━\u001b[0m\u001b[37m\u001b[0m \u001b[1m125s\u001b[0m 456ms/step - loss: 0.5577 - val_loss: 14646.9980 - learning_rate: 1.0000e-04\n",
      "Epoch 13/300\n",
      "\u001b[1m274/274\u001b[0m \u001b[32m━━━━━━━━━━━━━━━━━━━━\u001b[0m\u001b[37m\u001b[0m \u001b[1m0s\u001b[0m 375ms/step - loss: 0.5354\n",
      "Epoch 13: val_loss did not improve from 2037.72449\n",
      "\u001b[1m274/274\u001b[0m \u001b[32m━━━━━━━━━━━━━━━━━━━━\u001b[0m\u001b[37m\u001b[0m \u001b[1m124s\u001b[0m 454ms/step - loss: 0.5354 - val_loss: 9765.4844 - learning_rate: 1.0000e-04\n",
      "Epoch 14/300\n",
      "\u001b[1m274/274\u001b[0m \u001b[32m━━━━━━━━━━━━━━━━━━━━\u001b[0m\u001b[37m\u001b[0m \u001b[1m0s\u001b[0m 372ms/step - loss: 0.4781\n",
      "Epoch 14: val_loss improved from 2037.72449 to 382.45840, saving model to ./521_model2_model.h5\n"
     ]
    },
    {
     "name": "stderr",
     "output_type": "stream",
     "text": [
      "WARNING:absl:You are saving your model as an HDF5 file via `model.save()` or `keras.saving.save_model(model)`. This file format is considered legacy. We recommend using instead the native Keras format, e.g. `model.save('my_model.keras')` or `keras.saving.save_model(model, 'my_model.keras')`. \n"
     ]
    },
    {
     "name": "stdout",
     "output_type": "stream",
     "text": [
      "\u001b[1m274/274\u001b[0m \u001b[32m━━━━━━━━━━━━━━━━━━━━\u001b[0m\u001b[37m\u001b[0m \u001b[1m123s\u001b[0m 450ms/step - loss: 0.4781 - val_loss: 382.4584 - learning_rate: 1.0000e-04\n",
      "Epoch 15/300\n",
      "\u001b[1m274/274\u001b[0m \u001b[32m━━━━━━━━━━━━━━━━━━━━\u001b[0m\u001b[37m\u001b[0m \u001b[1m0s\u001b[0m 374ms/step - loss: 0.4631\n",
      "Epoch 15: val_loss did not improve from 382.45840\n",
      "\u001b[1m274/274\u001b[0m \u001b[32m━━━━━━━━━━━━━━━━━━━━\u001b[0m\u001b[37m\u001b[0m \u001b[1m124s\u001b[0m 454ms/step - loss: 0.4630 - val_loss: 14260.6934 - learning_rate: 1.0000e-04\n",
      "Epoch 16/300\n",
      "\u001b[1m274/274\u001b[0m \u001b[32m━━━━━━━━━━━━━━━━━━━━\u001b[0m\u001b[37m\u001b[0m \u001b[1m0s\u001b[0m 367ms/step - loss: 0.3880\n",
      "Epoch 16: val_loss did not improve from 382.45840\n",
      "\u001b[1m274/274\u001b[0m \u001b[32m━━━━━━━━━━━━━━━━━━━━\u001b[0m\u001b[37m\u001b[0m \u001b[1m123s\u001b[0m 450ms/step - loss: 0.3879 - val_loss: 1680.4550 - learning_rate: 1.0000e-04\n",
      "Epoch 17/300\n",
      "\u001b[1m274/274\u001b[0m \u001b[32m━━━━━━━━━━━━━━━━━━━━\u001b[0m\u001b[37m\u001b[0m \u001b[1m0s\u001b[0m 359ms/step - loss: 0.3342\n",
      "Epoch 17: val_loss did not improve from 382.45840\n",
      "\u001b[1m274/274\u001b[0m \u001b[32m━━━━━━━━━━━━━━━━━━━━\u001b[0m\u001b[37m\u001b[0m \u001b[1m123s\u001b[0m 448ms/step - loss: 0.3341 - val_loss: 2450.3008 - learning_rate: 1.0000e-04\n",
      "Epoch 18/300\n",
      "\u001b[1m274/274\u001b[0m \u001b[32m━━━━━━━━━━━━━━━━━━━━\u001b[0m\u001b[37m\u001b[0m \u001b[1m0s\u001b[0m 357ms/step - loss: 0.2837\n",
      "Epoch 18: val_loss did not improve from 382.45840\n",
      "\u001b[1m274/274\u001b[0m \u001b[32m━━━━━━━━━━━━━━━━━━━━\u001b[0m\u001b[37m\u001b[0m \u001b[1m122s\u001b[0m 447ms/step - loss: 0.2837 - val_loss: 1719.0610 - learning_rate: 1.0000e-04\n",
      "Epoch 19/300\n",
      "\u001b[1m274/274\u001b[0m \u001b[32m━━━━━━━━━━━━━━━━━━━━\u001b[0m\u001b[37m\u001b[0m \u001b[1m0s\u001b[0m 347ms/step - loss: 0.2752\n",
      "Epoch 19: val_loss improved from 382.45840 to 202.39964, saving model to ./521_model2_model.h5\n"
     ]
    },
    {
     "name": "stderr",
     "output_type": "stream",
     "text": [
      "WARNING:absl:You are saving your model as an HDF5 file via `model.save()` or `keras.saving.save_model(model)`. This file format is considered legacy. We recommend using instead the native Keras format, e.g. `model.save('my_model.keras')` or `keras.saving.save_model(model, 'my_model.keras')`. \n"
     ]
    },
    {
     "name": "stdout",
     "output_type": "stream",
     "text": [
      "\u001b[1m274/274\u001b[0m \u001b[32m━━━━━━━━━━━━━━━━━━━━\u001b[0m\u001b[37m\u001b[0m \u001b[1m121s\u001b[0m 440ms/step - loss: 0.2752 - val_loss: 202.3996 - learning_rate: 1.0000e-04\n",
      "Epoch 20/300\n",
      "\u001b[1m274/274\u001b[0m \u001b[32m━━━━━━━━━━━━━━━━━━━━\u001b[0m\u001b[37m\u001b[0m \u001b[1m0s\u001b[0m 348ms/step - loss: 0.2557\n",
      "Epoch 20: val_loss did not improve from 202.39964\n",
      "\u001b[1m274/274\u001b[0m \u001b[32m━━━━━━━━━━━━━━━━━━━━\u001b[0m\u001b[37m\u001b[0m \u001b[1m121s\u001b[0m 443ms/step - loss: 0.2557 - val_loss: 1661.2587 - learning_rate: 1.0000e-04\n",
      "Epoch 21/300\n",
      "\u001b[1m274/274\u001b[0m \u001b[32m━━━━━━━━━━━━━━━━━━━━\u001b[0m\u001b[37m\u001b[0m \u001b[1m0s\u001b[0m 345ms/step - loss: 0.2357\n",
      "Epoch 21: val_loss did not improve from 202.39964\n",
      "\u001b[1m274/274\u001b[0m \u001b[32m━━━━━━━━━━━━━━━━━━━━\u001b[0m\u001b[37m\u001b[0m \u001b[1m120s\u001b[0m 438ms/step - loss: 0.2357 - val_loss: 338.4499 - learning_rate: 1.0000e-04\n",
      "Epoch 22/300\n",
      "\u001b[1m274/274\u001b[0m \u001b[32m━━━━━━━━━━━━━━━━━━━━\u001b[0m\u001b[37m\u001b[0m \u001b[1m0s\u001b[0m 353ms/step - loss: 0.2374\n",
      "Epoch 22: val_loss did not improve from 202.39964\n",
      "\u001b[1m274/274\u001b[0m \u001b[32m━━━━━━━━━━━━━━━━━━━━\u001b[0m\u001b[37m\u001b[0m \u001b[1m144s\u001b[0m 445ms/step - loss: 0.2375 - val_loss: 351.2870 - learning_rate: 1.0000e-04\n",
      "Epoch 23/300\n",
      "\u001b[1m274/274\u001b[0m \u001b[32m━━━━━━━━━━━━━━━━━━━━\u001b[0m\u001b[37m\u001b[0m \u001b[1m0s\u001b[0m 348ms/step - loss: 0.2415\n",
      "Epoch 23: val_loss improved from 202.39964 to 133.52248, saving model to ./521_model2_model.h5\n"
     ]
    },
    {
     "name": "stderr",
     "output_type": "stream",
     "text": [
      "WARNING:absl:You are saving your model as an HDF5 file via `model.save()` or `keras.saving.save_model(model)`. This file format is considered legacy. We recommend using instead the native Keras format, e.g. `model.save('my_model.keras')` or `keras.saving.save_model(model, 'my_model.keras')`. \n"
     ]
    },
    {
     "name": "stdout",
     "output_type": "stream",
     "text": [
      "\u001b[1m274/274\u001b[0m \u001b[32m━━━━━━━━━━━━━━━━━━━━\u001b[0m\u001b[37m\u001b[0m \u001b[1m121s\u001b[0m 441ms/step - loss: 0.2415 - val_loss: 133.5225 - learning_rate: 1.0000e-04\n",
      "Epoch 24/300\n",
      "\u001b[1m274/274\u001b[0m \u001b[32m━━━━━━━━━━━━━━━━━━━━\u001b[0m\u001b[37m\u001b[0m \u001b[1m0s\u001b[0m 349ms/step - loss: 0.2212\n",
      "Epoch 24: val_loss improved from 133.52248 to 132.94646, saving model to ./521_model2_model.h5\n"
     ]
    },
    {
     "name": "stderr",
     "output_type": "stream",
     "text": [
      "WARNING:absl:You are saving your model as an HDF5 file via `model.save()` or `keras.saving.save_model(model)`. This file format is considered legacy. We recommend using instead the native Keras format, e.g. `model.save('my_model.keras')` or `keras.saving.save_model(model, 'my_model.keras')`. \n"
     ]
    },
    {
     "name": "stdout",
     "output_type": "stream",
     "text": [
      "\u001b[1m274/274\u001b[0m \u001b[32m━━━━━━━━━━━━━━━━━━━━\u001b[0m\u001b[37m\u001b[0m \u001b[1m122s\u001b[0m 444ms/step - loss: 0.2212 - val_loss: 132.9465 - learning_rate: 1.0000e-04\n",
      "Epoch 25/300\n",
      "\u001b[1m274/274\u001b[0m \u001b[32m━━━━━━━━━━━━━━━━━━━━\u001b[0m\u001b[37m\u001b[0m \u001b[1m0s\u001b[0m 350ms/step - loss: 0.2250\n",
      "Epoch 25: val_loss did not improve from 132.94646\n",
      "\u001b[1m274/274\u001b[0m \u001b[32m━━━━━━━━━━━━━━━━━━━━\u001b[0m\u001b[37m\u001b[0m \u001b[1m122s\u001b[0m 444ms/step - loss: 0.2250 - val_loss: 291.5650 - learning_rate: 1.0000e-04\n",
      "Epoch 26/300\n",
      "\u001b[1m274/274\u001b[0m \u001b[32m━━━━━━━━━━━━━━━━━━━━\u001b[0m\u001b[37m\u001b[0m \u001b[1m0s\u001b[0m 346ms/step - loss: 0.2315\n",
      "Epoch 26: val_loss did not improve from 132.94646\n",
      "\u001b[1m274/274\u001b[0m \u001b[32m━━━━━━━━━━━━━━━━━━━━\u001b[0m\u001b[37m\u001b[0m \u001b[1m120s\u001b[0m 439ms/step - loss: 0.2315 - val_loss: 1013.3096 - learning_rate: 1.0000e-04\n",
      "Epoch 27/300\n",
      "\u001b[1m274/274\u001b[0m \u001b[32m━━━━━━━━━━━━━━━━━━━━\u001b[0m\u001b[37m\u001b[0m \u001b[1m0s\u001b[0m 344ms/step - loss: 0.2239\n",
      "Epoch 27: val_loss did not improve from 132.94646\n",
      "\u001b[1m274/274\u001b[0m \u001b[32m━━━━━━━━━━━━━━━━━━━━\u001b[0m\u001b[37m\u001b[0m \u001b[1m120s\u001b[0m 437ms/step - loss: 0.2239 - val_loss: 716.8336 - learning_rate: 1.0000e-04\n",
      "Epoch 28/300\n",
      "\u001b[1m274/274\u001b[0m \u001b[32m━━━━━━━━━━━━━━━━━━━━\u001b[0m\u001b[37m\u001b[0m \u001b[1m0s\u001b[0m 345ms/step - loss: 0.2096\n",
      "Epoch 28: val_loss did not improve from 132.94646\n",
      "\u001b[1m274/274\u001b[0m \u001b[32m━━━━━━━━━━━━━━━━━━━━\u001b[0m\u001b[37m\u001b[0m \u001b[1m120s\u001b[0m 438ms/step - loss: 0.2097 - val_loss: 613.7245 - learning_rate: 1.0000e-04\n",
      "Epoch 29/300\n",
      "\u001b[1m274/274\u001b[0m \u001b[32m━━━━━━━━━━━━━━━━━━━━\u001b[0m\u001b[37m\u001b[0m \u001b[1m0s\u001b[0m 354ms/step - loss: 0.2002\n",
      "Epoch 29: val_loss did not improve from 132.94646\n",
      "\u001b[1m274/274\u001b[0m \u001b[32m━━━━━━━━━━━━━━━━━━━━\u001b[0m\u001b[37m\u001b[0m \u001b[1m122s\u001b[0m 447ms/step - loss: 0.2002 - val_loss: 1038.4458 - learning_rate: 1.0000e-04\n",
      "Epoch 30/300\n",
      "\u001b[1m274/274\u001b[0m \u001b[32m━━━━━━━━━━━━━━━━━━━━\u001b[0m\u001b[37m\u001b[0m \u001b[1m0s\u001b[0m 358ms/step - loss: 0.1973\n",
      "Epoch 30: val_loss did not improve from 132.94646\n",
      "\u001b[1m274/274\u001b[0m \u001b[32m━━━━━━━━━━━━━━━━━━━━\u001b[0m\u001b[37m\u001b[0m \u001b[1m122s\u001b[0m 447ms/step - loss: 0.1973 - val_loss: 1164.9052 - learning_rate: 1.0000e-04\n",
      "Epoch 31/300\n",
      "\u001b[1m274/274\u001b[0m \u001b[32m━━━━━━━━━━━━━━━━━━━━\u001b[0m\u001b[37m\u001b[0m \u001b[1m0s\u001b[0m 358ms/step - loss: 0.2032\n",
      "Epoch 31: val_loss did not improve from 132.94646\n",
      "\u001b[1m274/274\u001b[0m \u001b[32m━━━━━━━━━━━━━━━━━━━━\u001b[0m\u001b[37m\u001b[0m \u001b[1m121s\u001b[0m 440ms/step - loss: 0.2032 - val_loss: 5047.5981 - learning_rate: 1.0000e-04\n",
      "Epoch 32/300\n",
      "\u001b[1m274/274\u001b[0m \u001b[32m━━━━━━━━━━━━━━━━━━━━\u001b[0m\u001b[37m\u001b[0m \u001b[1m0s\u001b[0m 372ms/step - loss: 0.1983\n",
      "Epoch 32: val_loss did not improve from 132.94646\n",
      "\u001b[1m274/274\u001b[0m \u001b[32m━━━━━━━━━━━━━━━━━━━━\u001b[0m\u001b[37m\u001b[0m \u001b[1m124s\u001b[0m 453ms/step - loss: 0.1983 - val_loss: 761.4393 - learning_rate: 1.0000e-04\n",
      "Epoch 33/300\n",
      "\u001b[1m274/274\u001b[0m \u001b[32m━━━━━━━━━━━━━━━━━━━━\u001b[0m\u001b[37m\u001b[0m \u001b[1m0s\u001b[0m 370ms/step - loss: 0.1962\n",
      "Epoch 33: val_loss did not improve from 132.94646\n",
      "\u001b[1m274/274\u001b[0m \u001b[32m━━━━━━━━━━━━━━━━━━━━\u001b[0m\u001b[37m\u001b[0m \u001b[1m123s\u001b[0m 449ms/step - loss: 0.1962 - val_loss: 1115.7306 - learning_rate: 1.0000e-04\n",
      "Epoch 34/300\n",
      "\u001b[1m274/274\u001b[0m \u001b[32m━━━━━━━━━━━━━━━━━━━━\u001b[0m\u001b[37m\u001b[0m \u001b[1m0s\u001b[0m 367ms/step - loss: 0.1979\n",
      "Epoch 34: val_loss did not improve from 132.94646\n",
      "\u001b[1m274/274\u001b[0m \u001b[32m━━━━━━━━━━━━━━━━━━━━\u001b[0m\u001b[37m\u001b[0m \u001b[1m122s\u001b[0m 447ms/step - loss: 0.1979 - val_loss: 3223.1111 - learning_rate: 1.0000e-04\n",
      "Epoch 35/300\n",
      "\u001b[1m274/274\u001b[0m \u001b[32m━━━━━━━━━━━━━━━━━━━━\u001b[0m\u001b[37m\u001b[0m \u001b[1m0s\u001b[0m 363ms/step - loss: 0.1759\n",
      "Epoch 35: val_loss did not improve from 132.94646\n",
      "\u001b[1m274/274\u001b[0m \u001b[32m━━━━━━━━━━━━━━━━━━━━\u001b[0m\u001b[37m\u001b[0m \u001b[1m122s\u001b[0m 447ms/step - loss: 0.1759 - val_loss: 313.6693 - learning_rate: 2.0000e-05\n",
      "Epoch 36/300\n",
      "\u001b[1m274/274\u001b[0m \u001b[32m━━━━━━━━━━━━━━━━━━━━\u001b[0m\u001b[37m\u001b[0m \u001b[1m0s\u001b[0m 358ms/step - loss: 0.1590\n",
      "Epoch 36: val_loss did not improve from 132.94646\n",
      "\u001b[1m274/274\u001b[0m \u001b[32m━━━━━━━━━━━━━━━━━━━━\u001b[0m\u001b[37m\u001b[0m \u001b[1m122s\u001b[0m 446ms/step - loss: 0.1590 - val_loss: 396.2861 - learning_rate: 2.0000e-05\n",
      "Epoch 37/300\n",
      "\u001b[1m274/274\u001b[0m \u001b[32m━━━━━━━━━━━━━━━━━━━━\u001b[0m\u001b[37m\u001b[0m \u001b[1m0s\u001b[0m 293ms/step - loss: 0.1613\n",
      "Epoch 37: val_loss improved from 132.94646 to 95.56638, saving model to ./521_model2_model.h5\n"
     ]
    },
    {
     "name": "stderr",
     "output_type": "stream",
     "text": [
      "WARNING:absl:You are saving your model as an HDF5 file via `model.save()` or `keras.saving.save_model(model)`. This file format is considered legacy. We recommend using instead the native Keras format, e.g. `model.save('my_model.keras')` or `keras.saving.save_model(model, 'my_model.keras')`. \n"
     ]
    },
    {
     "name": "stdout",
     "output_type": "stream",
     "text": [
      "\u001b[1m274/274\u001b[0m \u001b[32m━━━━━━━━━━━━━━━━━━━━\u001b[0m\u001b[37m\u001b[0m \u001b[1m94s\u001b[0m 343ms/step - loss: 0.1613 - val_loss: 95.5664 - learning_rate: 2.0000e-05\n",
      "Epoch 38/300\n",
      "\u001b[1m274/274\u001b[0m \u001b[32m━━━━━━━━━━━━━━━━━━━━\u001b[0m\u001b[37m\u001b[0m \u001b[1m0s\u001b[0m 246ms/step - loss: 0.1598\n",
      "Epoch 38: val_loss did not improve from 95.56638\n",
      "\u001b[1m274/274\u001b[0m \u001b[32m━━━━━━━━━━━━━━━━━━━━\u001b[0m\u001b[37m\u001b[0m \u001b[1m80s\u001b[0m 292ms/step - loss: 0.1598 - val_loss: 106.3310 - learning_rate: 2.0000e-05\n",
      "Epoch 39/300\n",
      "\u001b[1m274/274\u001b[0m \u001b[32m━━━━━━━━━━━━━━━━━━━━\u001b[0m\u001b[37m\u001b[0m \u001b[1m0s\u001b[0m 244ms/step - loss: 0.1514\n",
      "Epoch 39: val_loss did not improve from 95.56638\n",
      "\u001b[1m274/274\u001b[0m \u001b[32m━━━━━━━━━━━━━━━━━━━━\u001b[0m\u001b[37m\u001b[0m \u001b[1m79s\u001b[0m 289ms/step - loss: 0.1514 - val_loss: 102.7021 - learning_rate: 2.0000e-05\n",
      "Epoch 40/300\n",
      "\u001b[1m274/274\u001b[0m \u001b[32m━━━━━━━━━━━━━━━━━━━━\u001b[0m\u001b[37m\u001b[0m \u001b[1m0s\u001b[0m 244ms/step - loss: 0.1627\n",
      "Epoch 40: val_loss improved from 95.56638 to 64.30164, saving model to ./521_model2_model.h5\n"
     ]
    },
    {
     "name": "stderr",
     "output_type": "stream",
     "text": [
      "WARNING:absl:You are saving your model as an HDF5 file via `model.save()` or `keras.saving.save_model(model)`. This file format is considered legacy. We recommend using instead the native Keras format, e.g. `model.save('my_model.keras')` or `keras.saving.save_model(model, 'my_model.keras')`. \n"
     ]
    },
    {
     "name": "stdout",
     "output_type": "stream",
     "text": [
      "\u001b[1m274/274\u001b[0m \u001b[32m━━━━━━━━━━━━━━━━━━━━\u001b[0m\u001b[37m\u001b[0m \u001b[1m79s\u001b[0m 290ms/step - loss: 0.1627 - val_loss: 64.3016 - learning_rate: 2.0000e-05\n",
      "Epoch 41/300\n",
      "\u001b[1m274/274\u001b[0m \u001b[32m━━━━━━━━━━━━━━━━━━━━\u001b[0m\u001b[37m\u001b[0m \u001b[1m0s\u001b[0m 246ms/step - loss: 0.1556\n",
      "Epoch 41: val_loss did not improve from 64.30164\n",
      "\u001b[1m274/274\u001b[0m \u001b[32m━━━━━━━━━━━━━━━━━━━━\u001b[0m\u001b[37m\u001b[0m \u001b[1m80s\u001b[0m 293ms/step - loss: 0.1556 - val_loss: 311.1048 - learning_rate: 2.0000e-05\n",
      "Epoch 42/300\n",
      "\u001b[1m274/274\u001b[0m \u001b[32m━━━━━━━━━━━━━━━━━━━━\u001b[0m\u001b[37m\u001b[0m \u001b[1m0s\u001b[0m 244ms/step - loss: 0.1536\n",
      "Epoch 42: val_loss did not improve from 64.30164\n",
      "\u001b[1m274/274\u001b[0m \u001b[32m━━━━━━━━━━━━━━━━━━━━\u001b[0m\u001b[37m\u001b[0m \u001b[1m79s\u001b[0m 290ms/step - loss: 0.1537 - val_loss: 409.7253 - learning_rate: 2.0000e-05\n",
      "Epoch 43/300\n",
      "\u001b[1m274/274\u001b[0m \u001b[32m━━━━━━━━━━━━━━━━━━━━\u001b[0m\u001b[37m\u001b[0m \u001b[1m0s\u001b[0m 245ms/step - loss: 0.1519\n",
      "Epoch 43: val_loss did not improve from 64.30164\n",
      "\u001b[1m274/274\u001b[0m \u001b[32m━━━━━━━━━━━━━━━━━━━━\u001b[0m\u001b[37m\u001b[0m \u001b[1m80s\u001b[0m 290ms/step - loss: 0.1520 - val_loss: 330.3179 - learning_rate: 2.0000e-05\n",
      "Epoch 44/300\n",
      "\u001b[1m274/274\u001b[0m \u001b[32m━━━━━━━━━━━━━━━━━━━━\u001b[0m\u001b[37m\u001b[0m \u001b[1m0s\u001b[0m 244ms/step - loss: 0.1552\n",
      "Epoch 44: val_loss did not improve from 64.30164\n",
      "\u001b[1m274/274\u001b[0m \u001b[32m━━━━━━━━━━━━━━━━━━━━\u001b[0m\u001b[37m\u001b[0m \u001b[1m79s\u001b[0m 290ms/step - loss: 0.1552 - val_loss: 110.8824 - learning_rate: 2.0000e-05\n",
      "Epoch 45/300\n",
      "\u001b[1m274/274\u001b[0m \u001b[32m━━━━━━━━━━━━━━━━━━━━\u001b[0m\u001b[37m\u001b[0m \u001b[1m0s\u001b[0m 244ms/step - loss: 0.1521\n",
      "Epoch 45: val_loss did not improve from 64.30164\n",
      "\u001b[1m274/274\u001b[0m \u001b[32m━━━━━━━━━━━━━━━━━━━━\u001b[0m\u001b[37m\u001b[0m \u001b[1m79s\u001b[0m 290ms/step - loss: 0.1521 - val_loss: 134.6279 - learning_rate: 2.0000e-05\n",
      "Epoch 46/300\n",
      "\u001b[1m274/274\u001b[0m \u001b[32m━━━━━━━━━━━━━━━━━━━━\u001b[0m\u001b[37m\u001b[0m \u001b[1m0s\u001b[0m 244ms/step - loss: 0.1585\n",
      "Epoch 46: val_loss did not improve from 64.30164\n",
      "\u001b[1m274/274\u001b[0m \u001b[32m━━━━━━━━━━━━━━━━━━━━\u001b[0m\u001b[37m\u001b[0m \u001b[1m79s\u001b[0m 289ms/step - loss: 0.1585 - val_loss: 183.7351 - learning_rate: 2.0000e-05\n",
      "Epoch 47/300\n",
      "\u001b[1m274/274\u001b[0m \u001b[32m━━━━━━━━━━━━━━━━━━━━\u001b[0m\u001b[37m\u001b[0m \u001b[1m0s\u001b[0m 244ms/step - loss: 0.1538\n",
      "Epoch 47: val_loss did not improve from 64.30164\n",
      "\u001b[1m274/274\u001b[0m \u001b[32m━━━━━━━━━━━━━━━━━━━━\u001b[0m\u001b[37m\u001b[0m \u001b[1m79s\u001b[0m 290ms/step - loss: 0.1538 - val_loss: 90.3053 - learning_rate: 2.0000e-05\n",
      "Epoch 48/300\n",
      "\u001b[1m274/274\u001b[0m \u001b[32m━━━━━━━━━━━━━━━━━━━━\u001b[0m\u001b[37m\u001b[0m \u001b[1m0s\u001b[0m 244ms/step - loss: 0.1538\n",
      "Epoch 48: val_loss did not improve from 64.30164\n",
      "\u001b[1m274/274\u001b[0m \u001b[32m━━━━━━━━━━━━━━━━━━━━\u001b[0m\u001b[37m\u001b[0m \u001b[1m79s\u001b[0m 290ms/step - loss: 0.1538 - val_loss: 99.5349 - learning_rate: 2.0000e-05\n",
      "Epoch 49/300\n",
      "\u001b[1m274/274\u001b[0m \u001b[32m━━━━━━━━━━━━━━━━━━━━\u001b[0m\u001b[37m\u001b[0m \u001b[1m0s\u001b[0m 244ms/step - loss: 0.1510\n",
      "Epoch 49: val_loss did not improve from 64.30164\n",
      "\u001b[1m274/274\u001b[0m \u001b[32m━━━━━━━━━━━━━━━━━━━━\u001b[0m\u001b[37m\u001b[0m \u001b[1m79s\u001b[0m 290ms/step - loss: 0.1510 - val_loss: 382.7252 - learning_rate: 2.0000e-05\n",
      "Epoch 50/300\n",
      "\u001b[1m274/274\u001b[0m \u001b[32m━━━━━━━━━━━━━━━━━━━━\u001b[0m\u001b[37m\u001b[0m \u001b[1m0s\u001b[0m 244ms/step - loss: 0.1493\n",
      "Epoch 50: val_loss did not improve from 64.30164\n",
      "\u001b[1m274/274\u001b[0m \u001b[32m━━━━━━━━━━━━━━━━━━━━\u001b[0m\u001b[37m\u001b[0m \u001b[1m79s\u001b[0m 289ms/step - loss: 0.1493 - val_loss: 677.2242 - learning_rate: 2.0000e-05\n",
      "Epoch 51/300\n",
      "\u001b[1m274/274\u001b[0m \u001b[32m━━━━━━━━━━━━━━━━━━━━\u001b[0m\u001b[37m\u001b[0m \u001b[1m0s\u001b[0m 244ms/step - loss: 0.1478\n",
      "Epoch 51: val_loss did not improve from 64.30164\n",
      "\u001b[1m274/274\u001b[0m \u001b[32m━━━━━━━━━━━━━━━━━━━━\u001b[0m\u001b[37m\u001b[0m \u001b[1m79s\u001b[0m 290ms/step - loss: 0.1478 - val_loss: 176.9496 - learning_rate: 2.0000e-05\n",
      "Epoch 52/300\n",
      "\u001b[1m274/274\u001b[0m \u001b[32m━━━━━━━━━━━━━━━━━━━━\u001b[0m\u001b[37m\u001b[0m \u001b[1m0s\u001b[0m 244ms/step - loss: 0.1585\n",
      "Epoch 52: val_loss did not improve from 64.30164\n",
      "\u001b[1m274/274\u001b[0m \u001b[32m━━━━━━━━━━━━━━━━━━━━\u001b[0m\u001b[37m\u001b[0m \u001b[1m79s\u001b[0m 289ms/step - loss: 0.1585 - val_loss: 116.5319 - learning_rate: 2.0000e-05\n",
      "Epoch 53/300\n",
      "\u001b[1m274/274\u001b[0m \u001b[32m━━━━━━━━━━━━━━━━━━━━\u001b[0m\u001b[37m\u001b[0m \u001b[1m0s\u001b[0m 244ms/step - loss: 0.1496\n",
      "Epoch 53: val_loss did not improve from 64.30164\n",
      "\u001b[1m274/274\u001b[0m \u001b[32m━━━━━━━━━━━━━━━━━━━━\u001b[0m\u001b[37m\u001b[0m \u001b[1m79s\u001b[0m 289ms/step - loss: 0.1496 - val_loss: 121.3638 - learning_rate: 2.0000e-05\n",
      "Epoch 54/300\n",
      "\u001b[1m274/274\u001b[0m \u001b[32m━━━━━━━━━━━━━━━━━━━━\u001b[0m\u001b[37m\u001b[0m \u001b[1m0s\u001b[0m 245ms/step - loss: 0.1495\n",
      "Epoch 54: val_loss did not improve from 64.30164\n",
      "\u001b[1m274/274\u001b[0m \u001b[32m━━━━━━━━━━━━━━━━━━━━\u001b[0m\u001b[37m\u001b[0m \u001b[1m80s\u001b[0m 291ms/step - loss: 0.1495 - val_loss: 114.2140 - learning_rate: 2.0000e-05\n",
      "Epoch 55/300\n",
      "\u001b[1m274/274\u001b[0m \u001b[32m━━━━━━━━━━━━━━━━━━━━\u001b[0m\u001b[37m\u001b[0m \u001b[1m0s\u001b[0m 244ms/step - loss: 0.1495\n",
      "Epoch 55: val_loss did not improve from 64.30164\n",
      "\u001b[1m274/274\u001b[0m \u001b[32m━━━━━━━━━━━━━━━━━━━━\u001b[0m\u001b[37m\u001b[0m \u001b[1m79s\u001b[0m 289ms/step - loss: 0.1495 - val_loss: 128.9955 - learning_rate: 2.0000e-05\n",
      "Epoch 56/300\n",
      "\u001b[1m274/274\u001b[0m \u001b[32m━━━━━━━━━━━━━━━━━━━━\u001b[0m\u001b[37m\u001b[0m \u001b[1m0s\u001b[0m 245ms/step - loss: 0.1496\n",
      "Epoch 56: val_loss did not improve from 64.30164\n",
      "\u001b[1m274/274\u001b[0m \u001b[32m━━━━━━━━━━━━━━━━━━━━\u001b[0m\u001b[37m\u001b[0m \u001b[1m80s\u001b[0m 290ms/step - loss: 0.1496 - val_loss: 95.1502 - learning_rate: 2.0000e-05\n",
      "Epoch 57/300\n",
      "\u001b[1m274/274\u001b[0m \u001b[32m━━━━━━━━━━━━━━━━━━━━\u001b[0m\u001b[37m\u001b[0m \u001b[1m0s\u001b[0m 247ms/step - loss: 0.1521\n",
      "Epoch 57: val_loss did not improve from 64.30164\n",
      "\u001b[1m274/274\u001b[0m \u001b[32m━━━━━━━━━━━━━━━━━━━━\u001b[0m\u001b[37m\u001b[0m \u001b[1m80s\u001b[0m 293ms/step - loss: 0.1521 - val_loss: 590.8479 - learning_rate: 2.0000e-05\n",
      "Epoch 58/300\n",
      "\u001b[1m274/274\u001b[0m \u001b[32m━━━━━━━━━━━━━━━━━━━━\u001b[0m\u001b[37m\u001b[0m \u001b[1m0s\u001b[0m 244ms/step - loss: 0.1457\n",
      "Epoch 58: val_loss did not improve from 64.30164\n",
      "\u001b[1m274/274\u001b[0m \u001b[32m━━━━━━━━━━━━━━━━━━━━\u001b[0m\u001b[37m\u001b[0m \u001b[1m79s\u001b[0m 289ms/step - loss: 0.1457 - val_loss: 126.9966 - learning_rate: 2.0000e-05\n",
      "Epoch 59/300\n",
      "\u001b[1m274/274\u001b[0m \u001b[32m━━━━━━━━━━━━━━━━━━━━\u001b[0m\u001b[37m\u001b[0m \u001b[1m0s\u001b[0m 255ms/step - loss: 0.1523\n",
      "Epoch 59: val_loss did not improve from 64.30164\n",
      "\u001b[1m274/274\u001b[0m \u001b[32m━━━━━━━━━━━━━━━━━━━━\u001b[0m\u001b[37m\u001b[0m \u001b[1m85s\u001b[0m 309ms/step - loss: 0.1522 - val_loss: 103.6391 - learning_rate: 2.0000e-05\n",
      "Epoch 60/300\n",
      "\u001b[1m274/274\u001b[0m \u001b[32m━━━━━━━━━━━━━━━━━━━━\u001b[0m\u001b[37m\u001b[0m \u001b[1m0s\u001b[0m 260ms/step - loss: 0.1477\n",
      "Epoch 60: val_loss did not improve from 64.30164\n",
      "\u001b[1m274/274\u001b[0m \u001b[32m━━━━━━━━━━━━━━━━━━━━\u001b[0m\u001b[37m\u001b[0m \u001b[1m84s\u001b[0m 306ms/step - loss: 0.1477 - val_loss: 84.1593 - learning_rate: 2.0000e-05\n",
      "Epoch 60: early stopping\n",
      "\u001b[1m233/233\u001b[0m \u001b[32m━━━━━━━━━━━━━━━━━━━━\u001b[0m\u001b[37m\u001b[0m \u001b[1m15s\u001b[0m 44ms/step\n"
     ]
    }
   ],
   "source": [
    "if __name__ == \"__main__\":\n",
    "  main()\n"
   ]
  },
  {
   "cell_type": "code",
   "execution_count": 28,
   "metadata": {},
   "outputs": [
    {
     "data": {
      "image/png": "[encoded data removed]",
      "text/plain": [
       "<Figure size 800x400 with 1 Axes>"
      ]
     },
     "metadata": {},
     "output_type": "display_data"
    }
   ],
   "source": [
    "import pandas as pd\n",
    "import matplotlib.pyplot as plt\n",
    "\n",
    "loss_df = pd.read_csv('521_model2_loss.csv')\n",
    "\n",
    "plt.figure(figsize=(8, 4))\n",
    "plt.plot(loss_df['TrainLoss'], label='Training Loss', color='blue', linestyle='-.')\n",
    "plt.plot(loss_df['TestLoss'], label='Validation Loss', color='m')\n",
    "plt.xlabel('Epochs')\n",
    "plt.xlabel('Epochs')\n",
    "plt.ylabel('Loss')\n",
    "plt.title('Training vs. Validation Loss')\n",
    "plt.legend()\n",
    "plt.grid(True)\n",
    "plt.tight_layout()\n",
    "plt.show()\n"
   ]
  },
  {
   "cell_type": "code",
   "execution_count": 29,
   "metadata": {},
   "outputs": [
    {
     "data": {
      "image/png": "[encoded data removed]",
      "text/plain": [
       "<Figure size 1000x400 with 1 Axes>"
      ]
     },
     "metadata": {},
     "output_type": "display_data"
    }
   ],
   "source": [
    "import pandas as pd\n",
    "import matplotlib.pyplot as plt\n",
    "eva_df = pd.read_csv('521_model2_eva.csv')\n",
    "\n",
    "plt.figure(figsize=(10, 4))\n",
    "plt.plot(eva_df['NSE_Test'], label='NSE', color='blue', linestyle='-.')\n",
    "plt.plot(eva_df['KGE_Test'], label='KGE', color='m', linestyle='-')\n",
    "plt.xlabel('Lead Time (hours)')\n",
    "plt.ylabel('Score')\n",
    "plt.title('Hourly NSE and KGE')\n",
    "plt.legend()\n",
    "plt.grid(True)\n",
    "plt.tight_layout()\n",
    "plt.show()\n"
   ]
  }
 ],
 "metadata": {
  "accelerator": "GPU",
  "colab": {
   "authorship_tag": "ABX9TyPc7M7UDxSdY2BcvKVypQHi",
   "collapsed_sections": [],
   "machine_shape": "hm",
   "name": "Model2_NRM.ipynb",
   "provenance": []
  },
  "kernelspec": {
   "display_name": "mosart-dev",
   "language": "python",
   "name": "python3"
  },
  "language_info": {
   "codemirror_mode": {
    "name": "ipython",
    "version": 3
   },
   "file_extension": ".py",
   "mimetype": "text/x-python",
   "name": "python",
   "nbconvert_exporter": "python",
   "pygments_lexer": "ipython3",
   "version": "3.10.16"
  }
 },
 "nbformat": 4,
 "nbformat_minor": 0
}
