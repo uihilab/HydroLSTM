{
 "cells": [
  {
   "cell_type": "code",
   "execution_count": 3,
   "metadata": {
    "colab": {
     "base_uri": "https://localhost:8080/"
    },
    "executionInfo": {
     "elapsed": 1114,
     "status": "ok",
     "timestamp": 1607938388788,
     "user": {
      "displayName": "Zr Xiang",
      "photoUrl": "",
      "userId": "10347344196072452629"
     },
     "user_tz": 360
    },
    "id": "u631zTBG1MFo",
    "outputId": "e6d2380e-4405-4a93-824b-a1737c0bbba6"
   },
   "outputs": [
    {
     "name": "stdout",
     "output_type": "stream",
     "text": [
      "[WinError 123] The filename, directory name, or volume label syntax is incorrect: \"'C:\\\\Users\\\\hdagne1\\\\Box\\\\Dr.Mesfin Research\\\\Summer_Institute_clones\\\\HydroLSTM'\"\n",
      "c:\\Users\\hdagne1\\Box\\Dr.Mesfin Research\\Summer_Institute_clones\\HydroLSTM\n"
     ]
    }
   ],
   "source": [
    "%cd 'C:\\Users\\hdagne1\\Box\\Dr.Mesfin Research\\Summer_Institute_clones\\HydroLSTM'"
   ]
  },
  {
   "cell_type": "code",
   "execution_count": 4,
   "metadata": {},
   "outputs": [
    {
     "data": {
      "text/plain": [
       "'c:\\\\Users\\\\hdagne1\\\\Box\\\\Dr.Mesfin Research\\\\Summer_Institute_clones\\\\HydroLSTM'"
      ]
     },
     "execution_count": 4,
     "metadata": {},
     "output_type": "execute_result"
    }
   ],
   "source": [
    "pwd"
   ]
  },
  {
   "cell_type": "code",
   "execution_count": 5,
   "metadata": {
    "executionInfo": {
     "elapsed": 1099,
     "status": "ok",
     "timestamp": 1607938388789,
     "user": {
      "displayName": "Zr Xiang",
      "photoUrl": "",
      "userId": "10347344196072452629"
     },
     "user_tz": 360
    },
    "id": "gPPqYh3U1VL4"
   },
   "outputs": [],
   "source": [
    "import numpy as np\n",
    "import pandas as pd\n",
    "\n",
    "from tensorflow.keras.models import *\n",
    "from tensorflow.keras.layers import *\n",
    "from tensorflow.keras.callbacks import ModelCheckpoint, ReduceLROnPlateau, EarlyStopping\n",
    "from tensorflow.keras.optimizers import *\n",
    "import tensorflow.keras.backend as K\n",
    "\n",
    "from sklearn.preprocessing import MinMaxScaler\n",
    "from sklearn.model_selection import train_test_split"
   ]
  },
  {
   "cell_type": "code",
   "execution_count": 6,
   "metadata": {
    "executionInfo": {
     "elapsed": 1089,
     "status": "ok",
     "timestamp": 1607938388790,
     "user": {
      "displayName": "Zr Xiang",
      "photoUrl": "",
      "userId": "10347344196072452629"
     },
     "user_tz": 360
    },
    "id": "GGyMOPlH1ihI"
   },
   "outputs": [],
   "source": [
    "def series_to_supervised(data, n_in=1, n_out=1, dropnan=False):\n",
    "  n_vars = 1 if type(data) is list else data.shape[1]\n",
    "  df = pd.DataFrame(data)\n",
    "  cols, names = list(), list()\n",
    "  # input sequence (t-n, ... t-1)\n",
    "  for i in range(n_in, 0, -1):\n",
    "    cols.append(df.shift(i))\n",
    "    names += [('var%d(t-%d)' % (j+1, i)) for j in range(n_vars)]\n",
    "  # forecast sequence (t, t+1, ... t+n)\n",
    "  for i in range(0, n_out):\n",
    "    cols.append(df.shift(-i))\n",
    "    if i == 0:\n",
    "      names += [('var%d(t)' % (j+1)) for j in range(n_vars)]\n",
    "    else:\n",
    "      names += [('var%d(t+%d)' % (j+1, i)) for j in range(n_vars)]\n",
    "  # put it all together\n",
    "  agg = pd.concat(cols, axis=1)\n",
    "  agg.columns = names\n",
    "  # drop rows with NaN values\n",
    "  if dropnan:\n",
    "    agg.dropna(inplace=True)\n",
    "  return pd.DataFrame(agg.astype('float32'))"
   ]
  },
  {
   "cell_type": "code",
   "execution_count": 7,
   "metadata": {
    "executionInfo": {
     "elapsed": 1082,
     "status": "ok",
     "timestamp": 1607938388791,
     "user": {
      "displayName": "Zr Xiang",
      "photoUrl": "",
      "userId": "10347344196072452629"
     },
     "user_tz": 360
    },
    "id": "c46oMGAs_Ile"
   },
   "outputs": [],
   "source": [
    "def train_valid_test_split(data, hours_of_history, hours_to_predict, parameters_included):\n",
    "  data_train_valid = data.iloc[:52608,:] # the first 6 years for training/validation\n",
    "  data_test = data.iloc[52608:,:] # the last 1 years for test evaluation\n",
    "  data_train_valid.dropna(inplace=True)\n",
    "  data_test.dropna(inplace=True)\n",
    "\n",
    "  data_valid, data_train = train_test_split(data_train_valid, test_size=0.4, shuffle= False) # the last 60% data in the first 6 years used for training and the first 40% used for validation.\n",
    "\n",
    "  return data_train.values, data_valid.values, data_test.values"
   ]
  },
  {
   "cell_type": "code",
   "execution_count": 8,
   "metadata": {
    "executionInfo": {
     "elapsed": 1074,
     "status": "ok",
     "timestamp": 1607938388793,
     "user": {
      "displayName": "Zr Xiang",
      "photoUrl": "",
      "userId": "10347344196072452629"
     },
     "user_tz": 360
    },
    "id": "kFW20INaHjoO"
   },
   "outputs": [],
   "source": [
    "def prepare_data(station_id, hours_of_history, hours_to_predict, parameters_included):\n",
    "\n",
    "  data = pd.read_csv('./data/'+str(station_id)+'_data.csv').iloc[:,1:]\n",
    "\n",
    "  # simple min-max scaling. Other pretreatments such as normalization also work.\n",
    "  scaler = MinMaxScaler()\n",
    "  scaler.fit(data.iloc[:52608,:]) # min-max scaling without the test dataset.\n",
    "  q_max = np.max(data.iloc[:52608,2]) # manually check the maximum and minimum discharge\n",
    "  q_min = np.min(data.iloc[:52608,2])\n",
    "  data_scaled = scaler.transform(data)\n",
    "\n",
    "  # data split\n",
    "  data_sequence = series_to_supervised(data_scaled, hours_of_history, hours_to_predict)\n",
    "  data_train, data_valid, data_test = train_valid_test_split(data_sequence, hours_of_history, hours_to_predict, parameters_included)\n",
    "\n",
    "  # Split data into 2 parts for encoder (history) and decoder(future).\n",
    "  train_x_rainfall = data_train[:,0::3].reshape(-1, hours_of_history+hours_to_predict, 1)\n",
    "  train_discharge = data_train[:,2::3].reshape(-1, hours_of_history+hours_to_predict, 1)\n",
    "  train_x_discharge = train_discharge[:,:hours_of_history,:]\n",
    "  train_y = train_discharge[:,hours_of_history:,:]\n",
    "  train_x_et = data_train[:,3*hours_of_history+1].reshape(-1, 1) # the current hour et\n",
    "\n",
    "  valid_x_rainfall = data_valid[:,0::3].reshape(-1, hours_of_history+hours_to_predict, 1)\n",
    "  valid_discharge = data_valid[:,2::3].reshape(-1, hours_of_history+hours_to_predict, 1)\n",
    "  valid_x_discharge = valid_discharge[:,:hours_of_history,:]\n",
    "  valid_y = valid_discharge[:,hours_of_history:,:]\n",
    "  valid_x_et = data_valid[:,3*hours_of_history+1].reshape(-1, 1) # the current hour et\n",
    "\n",
    "  test_x_rainfall = data_test[:,0::3].reshape(-1, hours_of_history+hours_to_predict, 1)\n",
    "  test_discharge = data_test[:,2::3].reshape(-1, hours_of_history+hours_to_predict, 1)\n",
    "  test_x_discharge = test_discharge[:,:hours_of_history,:]\n",
    "  test_y = test_discharge[:,hours_of_history:,:]\n",
    "  test_x_et = data_test[:,3*hours_of_history+1].reshape(-1, 1) # the current hour et\n",
    "\n",
    "  return [train_x_et, train_x_discharge, train_x_rainfall], train_y, [valid_x_et, valid_x_discharge, valid_x_rainfall], valid_y, [test_x_et, test_x_discharge, test_x_rainfall], test_y, q_max, q_min"
   ]
  },
  {
   "cell_type": "code",
   "execution_count": 9,
   "metadata": {
    "executionInfo": {
     "elapsed": 1064,
     "status": "ok",
     "timestamp": 1607938388795,
     "user": {
      "displayName": "Zr Xiang",
      "photoUrl": "",
      "userId": "10347344196072452629"
     },
     "user_tz": 360
    },
    "id": "_w-hAdAcFqNl"
   },
   "outputs": [],
   "source": [
    "# define custome loss function (you can use the simple 'mse' as well)\n",
    "def nseloss(y_true, y_pred):\n",
    "  return K.sum((y_pred-y_true)**2)/K.sum((y_true-K.mean(y_true))**2)"
   ]
  },
  {
   "cell_type": "code",
   "execution_count": 10,
   "metadata": {
    "executionInfo": {
     "elapsed": 1058,
     "status": "ok",
     "timestamp": 1607938388798,
     "user": {
      "displayName": "Zr Xiang",
      "photoUrl": "",
      "userId": "10347344196072452629"
     },
     "user_tz": 360
    },
    "id": "Vy6tFQRBRuUD"
   },
   "outputs": [],
   "source": [
    "def EDLSTM(hours_of_history, hours_to_predict, parameters_included):\n",
    "\n",
    "  # design network\n",
    "  # input of runoff observation, LSTM encoder\n",
    "  input_1 = Input(shape=(hours_of_history, 1), name='LSTM1_input') # shape should be 72*1 for runoff observation\n",
    "  LSTM1 = LSTM(256, return_sequences=False)(input_1)\n",
    "\n",
    "  # input of rainfall observation and forecast, LSTM encoder\n",
    "  input_2 = Input(shape=((hours_of_history+hours_to_predict), 1), name='LSTM2_input') # shape should be (72+24)*n=96*n, for rainfall observation (72) and predictions (24) for rainfall and additional stations (if there is no upstream station, n=1)\n",
    "  LSTM2 = LSTM(256, return_sequences=False)(input_2)\n",
    "\n",
    "  # input of other non-timeseries data, such as daily or monthly data.\n",
    "  input_phys = Input(shape=(1,), name='phys_input') # one single value of ET. shape = 1.\n",
    "\n",
    "  # connect all data\n",
    "  x = concatenate([input_phys, LSTM1, LSTM2]) # Get state vector.\n",
    "  x = RepeatVector(hours_to_predict)(x) # 24 is the output time dimension\n",
    "\n",
    "  # LSTM decoder\n",
    "  x = LSTM(512, return_sequences=True)(x)\n",
    "\n",
    "  # define fully-connected dense layers\n",
    "  dim_dense=[512, 256, 256, 128, 64]\n",
    "\n",
    "  # final fully-connected dense layer for final result\n",
    "  for dim in dim_dense:\n",
    "    x = TimeDistributed(Dense(dim, activation='relu'))(x)\n",
    "    x = TimeDistributed(Dropout(0.2))(x) # Some dropout for dense layers. Some paper mentioned that it is not recommend to have dropout between the RNN/LSTM/GRU layers. Thus, I only apply dropout in the dense layer.\n",
    "  main_out = TimeDistributed(Dense(1, activation='relu'))(x) # here relu provides the final output non-negative, which is corrosponding to my min-max pre-prossing.\n",
    "  main_out = Flatten()(main_out)\n",
    "\n",
    "  model = Model(inputs=[input_phys, input_1, input_2], outputs=main_out)\n",
    "  \n",
    "  return model"
   ]
  },
  {
   "cell_type": "code",
   "execution_count": 11,
   "metadata": {
    "executionInfo": {
     "elapsed": 1047,
     "status": "ok",
     "timestamp": 1607938388799,
     "user": {
      "displayName": "Zr Xiang",
      "photoUrl": "",
      "userId": "10347344196072452629"
     },
     "user_tz": 360
    },
    "id": "PvTU6Ob4cc8A"
   },
   "outputs": [],
   "source": [
    "# identify KGE, NSE for evaluation\n",
    "def nse(y_true, y_pred):\n",
    "  return 1-np.sum((y_pred-y_true)**2)/np.sum((y_true-np.mean(y_true))**2)\n",
    "  \n",
    "def kge(y_true, y_pred):\n",
    "  kge_r = np.corrcoef(y_true,y_pred)[1][0]\n",
    "  kge_a = np.std(y_pred)/np.std(y_true)\n",
    "  kge_b = np.mean(y_pred)/np.mean(y_true)\n",
    "  return 1-np.sqrt((kge_r-1)**2+(kge_a-1)**2+(kge_b-1)**2)\n"
   ]
  },
  {
   "cell_type": "code",
   "execution_count": null,
   "metadata": {
    "executionInfo": {
     "elapsed": 1039,
     "status": "ok",
     "timestamp": 1607938388801,
     "user": {
      "displayName": "Zr Xiang",
      "photoUrl": "",
      "userId": "10347344196072452629"
     },
     "user_tz": 360
    },
    "id": "MptO3dI7Hucj"
   },
   "outputs": [],
   "source": [
    "def main():\n",
    "  \n",
    "  # parameters\n",
    "  station_id = 521\n",
    "  hours_to_predict = 24\n",
    "  hours_of_history = 72\n",
    "  parameters_included = 3\n",
    "\n",
    "  batch_size = 64\n",
    "  lr = 0.0001\n",
    "  epochs = 300\n",
    "  test_name = './'+str(station_id)+'_model1_'\n",
    "\n",
    "  # load data\n",
    "  x_train, y_train, x_valid, y_valid, x_test, y_test, q_max, q_min = prepare_data(station_id, hours_of_history, hours_to_predict, parameters_included)\n",
    "  model1 = EDLSTM(hours_of_history, hours_to_predict, parameters_included)\n",
    "\n",
    "  # compile settings\n",
    "  reduce_lr = ReduceLROnPlateau(monitor='val_loss', factor=0.3, patience=15, cooldown=30, min_lr=1e-8)\n",
    "  earlystoping = EarlyStopping(monitor='val_loss', min_delta=0, patience=20, verbose=1, mode='auto')\n",
    "  checkpoint = ModelCheckpoint(test_name+'model.h5', monitor='val_loss', verbose=1, save_best_only=True, mode='min')\n",
    "  optimizer = RMSprop(learning_rate=lr)  # optimizer = RMSprop(lr=lr)\n",
    "  \n",
    "  model1.compile(optimizer=optimizer, loss=nseloss) # I used the build-in RMSprop, loss function is 1-NSE. You can use 'mse', 'mae' as well.\n",
    "\n",
    "  # train model\n",
    "  history = model1.fit(x_train, y_train, epochs=epochs, batch_size=batch_size,\n",
    "              validation_data=(x_valid, y_valid), callbacks=[reduce_lr, earlystoping, checkpoint], verbose=1)\n",
    "\n",
    "  # save training loss\n",
    "  loss_train = history.history['loss']\n",
    "  loss_valid = history.history['val_loss']\n",
    "  loss_train = pd.DataFrame({'TrainLoss':loss_train})\n",
    "  loss_valid = pd.DataFrame({'TestLoss':loss_valid})\n",
    "  LossEpoches = pd.concat([loss_train, loss_valid], axis=1)\n",
    "  LossEpoches.to_csv(test_name+'loss.csv', index = True)\n",
    "\n",
    "  # Final Test Review\n",
    "  model1.load_weights(test_name+'model.h5')\n",
    "\n",
    "  y_model_scaled = model1.predict(x_test)\n",
    "  y_model = y_model_scaled*(q_max-q_min)+q_min\n",
    "  y_test = y_test*(q_max-q_min)+q_min\n",
    "\n",
    "  # hourly evaluation\n",
    "  NSEs=[]\n",
    "  KGEs=[]\n",
    "  for x in range(0, 24):\n",
    "    y_pred = y_model[:,x]\n",
    "    y_True = y_test[:,x]\n",
    "    NSEs.append(nse(y_True[:,0],y_pred))\n",
    "    KGEs.append(kge(y_True[:,0],y_pred))  \n",
    "    \n",
    "  NSEs=pd.DataFrame(NSEs)\n",
    "  NSEs.columns = ['NSE_Test']\n",
    "  KGEs=pd.DataFrame(KGEs)\n",
    "  KGEs.columns = ['KGE_Test']\n",
    "    \n",
    "  eva = pd.concat([NSEs, KGEs], axis=1)\n",
    "  eva.to_csv(test_name+'eva.csv', index = True)\n",
    " "
   ]
  },
  {
   "cell_type": "code",
   "execution_count": null,
   "metadata": {
    "colab": {
     "base_uri": "https://localhost:8080/"
    },
    "executionInfo": {
     "elapsed": 444533,
     "status": "ok",
     "timestamp": 1607938836656,
     "user": {
      "displayName": "Zr Xiang",
      "photoUrl": "",
      "userId": "10347344196072452629"
     },
     "user_tz": 360
    },
    "id": "o03f8xK7ao9g",
    "outputId": "8425a0d2-1c7b-433f-839f-26271924be2a"
   },
   "outputs": [],
   "source": [
    "if __name__ == \"__main__\":\n",
    "  main()\n"
   ]
  },
  {
   "cell_type": "code",
   "execution_count": 18,
   "metadata": {},
   "outputs": [
    {
     "data": {
      "image/png": "[encoded data removed]",
      "text/plain": [
       "<Figure size 1000x400 with 2 Axes>"
      ]
     },
     "metadata": {},
     "output_type": "display_data"
    }
   ],
   "source": [
    "import pandas as pd\n",
    "import matplotlib.pyplot as plt\n",
    "\n",
    "# Load evaluation data\n",
    "eva_df = pd.read_csv('521_model2_eva.csv')\n",
    "\n",
    "# Create figure and axis objects with a single subplot\n",
    "fig, ax1 = plt.subplots(figsize=(10, 4))\n",
    "\n",
    "# Plot NSE on the first y-axis\n",
    "ax1.plot(eva_df['NSE_Test'], color='blue', linestyle='-.', label='NSE')\n",
    "ax1.set_xlabel('Lead Time (hours)')\n",
    "ax1.set_ylabel('NSE Score', color='blue')\n",
    "ax1.tick_params(axis='y', labelcolor='blue')\n",
    "ax1.grid(True, linestyle='--', alpha=0.7)\n",
    "\n",
    "# Create a second y-axis for KGE\n",
    "ax2 = ax1.twinx()\n",
    "ax2.plot(eva_df['KGE_Test'], color='magenta', linestyle='-', label='KGE')\n",
    "ax2.set_ylabel('KGE Score', color='magenta')\n",
    "ax2.tick_params(axis='y', labelcolor='magenta')\n",
    "\n",
    "# Add title and legend\n",
    "plt.title('Hourly NSE and KGE with Dual Axes')\n",
    "fig.legend(loc='upper center', bbox_to_anchor=(0.5, -0.05), ncol=2, bbox_transform=fig.transFigure)\n",
    "plt.tight_layout()\n",
    "\n",
    "# Save the plot\n",
    "# plt.savefig('dual_axis_nse_kge.png')\n",
    "plt.show()"
   ]
  }
 ],
 "metadata": {
  "accelerator": "GPU",
  "colab": {
   "authorship_tag": "ABX9TyMldi9Jo6R9GQCQodu38jKC",
   "collapsed_sections": [],
   "machine_shape": "hm",
   "name": "Model1_Encoder_Decoder_LSTM.ipynb",
   "provenance": []
  },
  "kernelspec": {
   "display_name": "mosart-dev",
   "language": "python",
   "name": "python3"
  },
  "language_info": {
   "codemirror_mode": {
    "name": "ipython",
    "version": 3
   },
   "file_extension": ".py",
   "mimetype": "text/x-python",
   "name": "python",
   "nbconvert_exporter": "python",
   "pygments_lexer": "ipython3",
   "version": "3.10.16"
  }
 },
 "nbformat": 4,
 "nbformat_minor": 0
}
